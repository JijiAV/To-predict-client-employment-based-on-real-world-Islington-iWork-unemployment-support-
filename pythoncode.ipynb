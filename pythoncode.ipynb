{
 "cells": [
  {
   "cell_type": "code",
   "execution_count": 218,
   "id": "c71ff0a0",
   "metadata": {},
   "outputs": [],
   "source": [
    "#Import the libraries\n",
    "\n",
    "import pandas as pd\n",
    "import numpy as np\n",
    "import re\n",
    "from sklearn.model_selection import train_test_split\n",
    "\n",
    "import matplotlib.pyplot as plt\n",
    "%matplotlib inline"
   ]
  },
  {
   "cell_type": "code",
   "execution_count": 219,
   "id": "86870009",
   "metadata": {
    "scrolled": true
   },
   "outputs": [
    {
     "data": {
      "text/html": [
       "<div>\n",
       "<style scoped>\n",
       "    .dataframe tbody tr th:only-of-type {\n",
       "        vertical-align: middle;\n",
       "    }\n",
       "\n",
       "    .dataframe tbody tr th {\n",
       "        vertical-align: top;\n",
       "    }\n",
       "\n",
       "    .dataframe thead th {\n",
       "        text-align: right;\n",
       "    }\n",
       "</style>\n",
       "<table border=\"1\" class=\"dataframe\">\n",
       "  <thead>\n",
       "    <tr style=\"text-align: right;\">\n",
       "      <th></th>\n",
       "      <th>Employer</th>\n",
       "      <th>Registration_Date</th>\n",
       "      <th>Client_Current_Age</th>\n",
       "      <th>Parent_on_Enrolment</th>\n",
       "      <th>Gender</th>\n",
       "      <th>Ethnic_Origin</th>\n",
       "      <th>Has_Disability</th>\n",
       "      <th>Disability_details</th>\n",
       "      <th>Religion</th>\n",
       "      <th>Sexuality</th>\n",
       "      <th>Highest_Level_of_Education</th>\n",
       "      <th>Claiming_Benefits</th>\n",
       "      <th>Benefits</th>\n",
       "      <th>WARD_NAME</th>\n",
       "    </tr>\n",
       "  </thead>\n",
       "  <tbody>\n",
       "    <tr>\n",
       "      <th>0</th>\n",
       "      <td>No Outcome</td>\n",
       "      <td>22/07/2021</td>\n",
       "      <td>29</td>\n",
       "      <td>Blanks</td>\n",
       "      <td>Female</td>\n",
       "      <td>(C) Asian or Asian British - Any other Asian b...</td>\n",
       "      <td>No</td>\n",
       "      <td>NaN</td>\n",
       "      <td>Blanks</td>\n",
       "      <td>Prefer not to say sexuality</td>\n",
       "      <td>ISCED Level 6 (Bachelor's or equivalent level)</td>\n",
       "      <td>No</td>\n",
       "      <td>Not in receipt of benefits</td>\n",
       "      <td>Whitechapel</td>\n",
       "    </tr>\n",
       "    <tr>\n",
       "      <th>1</th>\n",
       "      <td>No Outcome</td>\n",
       "      <td>24/08/2021</td>\n",
       "      <td>32</td>\n",
       "      <td>Blanks</td>\n",
       "      <td>Male</td>\n",
       "      <td>(C) Asian or Asian British - Any other Asian b...</td>\n",
       "      <td>No</td>\n",
       "      <td>NaN</td>\n",
       "      <td>Blanks</td>\n",
       "      <td>Prefer not to say sexuality</td>\n",
       "      <td>ISCED Level 6 (Bachelor's or equivalent level)</td>\n",
       "      <td>No</td>\n",
       "      <td>Not in receipt of benefits</td>\n",
       "      <td>Stepney Green</td>\n",
       "    </tr>\n",
       "    <tr>\n",
       "      <th>2</th>\n",
       "      <td>No Outcome</td>\n",
       "      <td>13/05/2021</td>\n",
       "      <td>48</td>\n",
       "      <td>Blanks</td>\n",
       "      <td>Female</td>\n",
       "      <td>(D) Black or Black British - Other African</td>\n",
       "      <td>Blanks</td>\n",
       "      <td>NaN</td>\n",
       "      <td>Christian</td>\n",
       "      <td>Heterosexual</td>\n",
       "      <td>Blanks</td>\n",
       "      <td>Blanks</td>\n",
       "      <td>NaN</td>\n",
       "      <td>Forest</td>\n",
       "    </tr>\n",
       "    <tr>\n",
       "      <th>3</th>\n",
       "      <td>No Outcome</td>\n",
       "      <td>31/08/2021</td>\n",
       "      <td>55</td>\n",
       "      <td>Blanks</td>\n",
       "      <td>Male</td>\n",
       "      <td>(D) Black or Black British - Any other Black b...</td>\n",
       "      <td>No</td>\n",
       "      <td>NaN</td>\n",
       "      <td>Blanks</td>\n",
       "      <td>No response to sexuality</td>\n",
       "      <td>ISCED Level 7 (Master's or equivalent level)</td>\n",
       "      <td>Yes</td>\n",
       "      <td>NaN</td>\n",
       "      <td>NaN</td>\n",
       "    </tr>\n",
       "    <tr>\n",
       "      <th>4</th>\n",
       "      <td>No Outcome</td>\n",
       "      <td>31/08/2021</td>\n",
       "      <td>30</td>\n",
       "      <td>Blanks</td>\n",
       "      <td>Female</td>\n",
       "      <td>(A) White - Any other White background</td>\n",
       "      <td>No</td>\n",
       "      <td>NaN</td>\n",
       "      <td>Blanks</td>\n",
       "      <td>No response to sexuality</td>\n",
       "      <td>ISCED Level 2 (Lower secondary education)</td>\n",
       "      <td>Yes</td>\n",
       "      <td>Prefer not to disclose benefits</td>\n",
       "      <td>Blackwall &amp; Cubitt Town</td>\n",
       "    </tr>\n",
       "  </tbody>\n",
       "</table>\n",
       "</div>"
      ],
      "text/plain": [
       "     Employer Registration_Date  Client_Current_Age Parent_on_Enrolment  \\\n",
       "0  No Outcome        22/07/2021                  29              Blanks   \n",
       "1  No Outcome        24/08/2021                  32              Blanks   \n",
       "2  No Outcome        13/05/2021                  48              Blanks   \n",
       "3  No Outcome        31/08/2021                  55              Blanks   \n",
       "4  No Outcome        31/08/2021                  30              Blanks   \n",
       "\n",
       "   Gender                                      Ethnic_Origin Has_Disability  \\\n",
       "0  Female  (C) Asian or Asian British - Any other Asian b...             No   \n",
       "1    Male  (C) Asian or Asian British - Any other Asian b...             No   \n",
       "2  Female         (D) Black or Black British - Other African         Blanks   \n",
       "3    Male  (D) Black or Black British - Any other Black b...             No   \n",
       "4  Female             (A) White - Any other White background             No   \n",
       "\n",
       "   Disability_details   Religion                    Sexuality  \\\n",
       "0                 NaN     Blanks  Prefer not to say sexuality   \n",
       "1                 NaN     Blanks  Prefer not to say sexuality   \n",
       "2                 NaN  Christian                 Heterosexual   \n",
       "3                 NaN     Blanks     No response to sexuality   \n",
       "4                 NaN     Blanks     No response to sexuality   \n",
       "\n",
       "                       Highest_Level_of_Education Claiming_Benefits  \\\n",
       "0  ISCED Level 6 (Bachelor's or equivalent level)                No   \n",
       "1  ISCED Level 6 (Bachelor's or equivalent level)                No   \n",
       "2                                          Blanks            Blanks   \n",
       "3    ISCED Level 7 (Master's or equivalent level)               Yes   \n",
       "4       ISCED Level 2 (Lower secondary education)               Yes   \n",
       "\n",
       "                          Benefits                WARD_NAME  \n",
       "0       Not in receipt of benefits              Whitechapel  \n",
       "1       Not in receipt of benefits            Stepney Green  \n",
       "2                              NaN                   Forest  \n",
       "3                              NaN                      NaN  \n",
       "4  Prefer not to disclose benefits  Blackwall & Cubitt Town  "
      ]
     },
     "execution_count": 219,
     "metadata": {},
     "output_type": "execute_result"
    }
   ],
   "source": [
    "#Read and store a csv file into the dataframe\n",
    "Islington_data = pd.read_csv('Islington_iwork_anonymous_data.csv',sep=',')\n",
    "\n",
    "#Display the first five rows of the dataframe\n",
    "Islington_data.head()"
   ]
  },
  {
   "cell_type": "code",
   "execution_count": 220,
   "id": "f6d8bea7",
   "metadata": {},
   "outputs": [
    {
     "name": "stdout",
     "output_type": "stream",
     "text": [
      "number of rows in the data is 4788\n",
      "number of columns in the data is 14\n"
     ]
    }
   ],
   "source": [
    "#To print the shape of the table\n",
    "print(\"number of rows in the data is\", len(Islington_data))\n",
    "print(\"number of columns in the data is\", len(Islington_data.columns))"
   ]
  },
  {
   "cell_type": "markdown",
   "id": "25cae4b5",
   "metadata": {},
   "source": [
    "### Checking  missing or error data of each variable"
   ]
  },
  {
   "cell_type": "code",
   "execution_count": 221,
   "id": "9c31a2d0",
   "metadata": {},
   "outputs": [
    {
     "name": "stdout",
     "output_type": "stream",
     "text": [
      "The number of missing values in Employer is 1\n",
      "The number of missing values in Registration_Date is 0\n",
      "The number of missing values in Client_Current_Age is 0\n",
      "The number of missing values in Parent_on_Enrolment is 0\n",
      "The number of missing values in Gender is 0\n",
      "The number of missing values in Ethnic_Origin is 0\n",
      "The number of missing values in Has_Disability is 0\n",
      "The number of missing values in Disability_details is 4788\n",
      "The number of missing values in Religion is 0\n",
      "The number of missing values in Sexuality is 0\n",
      "The number of missing values in Highest_Level_of_Education is 0\n",
      "The number of missing values in Claiming_Benefits is 0\n",
      "The number of missing values in Benefits is 2507\n",
      "The number of missing values in WARD_NAME is 7\n"
     ]
    }
   ],
   "source": [
    "#For missing values\n",
    "for i in Islington_data.columns:\n",
    "    print(f\"The number of missing values in {i} is {Islington_data[i].isna().sum()}\")"
   ]
  },
  {
   "cell_type": "markdown",
   "id": "0cc57890",
   "metadata": {},
   "source": [
    "### Removing the variables with no influences on the target"
   ]
  },
  {
   "cell_type": "code",
   "execution_count": 222,
   "id": "e9189561",
   "metadata": {},
   "outputs": [],
   "source": [
    "#Since the column disability details doesn't have any \n",
    "#relevant data, we can remove the column"
   ]
  },
  {
   "cell_type": "code",
   "execution_count": 223,
   "id": "37bfb2f9",
   "metadata": {},
   "outputs": [],
   "source": [
    "#We can remove the registration data, as we don't have the exact hiring dates, which would have been helpful in determining\n",
    "#the days it took to get the job."
   ]
  },
  {
   "cell_type": "code",
   "execution_count": 224,
   "id": "4a00cba2",
   "metadata": {},
   "outputs": [
    {
     "data": {
      "text/plain": [
       "Heterosexual                   3592\n",
       "Prefer not to say sexuality     552\n",
       "No response to sexuality        198\n",
       "Blanks                          195\n",
       "Gay / lesbian                   125\n",
       "Bisexual                        107\n",
       "Other sexuality                  19\n",
       "Name: Sexuality, dtype: int64"
      ]
     },
     "execution_count": 224,
     "metadata": {},
     "output_type": "execute_result"
    }
   ],
   "source": [
    "Islington_data['Sexuality'].value_counts()\n",
    "#Since most of the person appears to be Hetrosexual, this variable cannot be considered as a fit to predict\n",
    "#the target variable as it may serve as a bias."
   ]
  },
  {
   "cell_type": "code",
   "execution_count": 225,
   "id": "d2dbb054",
   "metadata": {},
   "outputs": [],
   "source": [
    "#Benefits can be removed as there are 2507 missing values in it. If we remove all the rows \n",
    "#corresponding to the null value, we will lose majority of the data"
   ]
  },
  {
   "cell_type": "code",
   "execution_count": 226,
   "id": "5a281b7f",
   "metadata": {},
   "outputs": [
    {
     "data": {
      "text/html": [
       "<div>\n",
       "<style scoped>\n",
       "    .dataframe tbody tr th:only-of-type {\n",
       "        vertical-align: middle;\n",
       "    }\n",
       "\n",
       "    .dataframe tbody tr th {\n",
       "        vertical-align: top;\n",
       "    }\n",
       "\n",
       "    .dataframe thead th {\n",
       "        text-align: right;\n",
       "    }\n",
       "</style>\n",
       "<table border=\"1\" class=\"dataframe\">\n",
       "  <thead>\n",
       "    <tr style=\"text-align: right;\">\n",
       "      <th></th>\n",
       "      <th>Employer</th>\n",
       "      <th>Client_Current_Age</th>\n",
       "      <th>Parent_on_Enrolment</th>\n",
       "      <th>Gender</th>\n",
       "      <th>Ethnic_Origin</th>\n",
       "      <th>Has_Disability</th>\n",
       "      <th>Religion</th>\n",
       "      <th>Highest_Level_of_Education</th>\n",
       "      <th>Claiming_Benefits</th>\n",
       "      <th>WARD_NAME</th>\n",
       "    </tr>\n",
       "  </thead>\n",
       "  <tbody>\n",
       "    <tr>\n",
       "      <th>0</th>\n",
       "      <td>No Outcome</td>\n",
       "      <td>29</td>\n",
       "      <td>Blanks</td>\n",
       "      <td>Female</td>\n",
       "      <td>(C) Asian or Asian British - Any other Asian b...</td>\n",
       "      <td>No</td>\n",
       "      <td>Blanks</td>\n",
       "      <td>ISCED Level 6 (Bachelor's or equivalent level)</td>\n",
       "      <td>No</td>\n",
       "      <td>Whitechapel</td>\n",
       "    </tr>\n",
       "    <tr>\n",
       "      <th>1</th>\n",
       "      <td>No Outcome</td>\n",
       "      <td>32</td>\n",
       "      <td>Blanks</td>\n",
       "      <td>Male</td>\n",
       "      <td>(C) Asian or Asian British - Any other Asian b...</td>\n",
       "      <td>No</td>\n",
       "      <td>Blanks</td>\n",
       "      <td>ISCED Level 6 (Bachelor's or equivalent level)</td>\n",
       "      <td>No</td>\n",
       "      <td>Stepney Green</td>\n",
       "    </tr>\n",
       "    <tr>\n",
       "      <th>2</th>\n",
       "      <td>No Outcome</td>\n",
       "      <td>48</td>\n",
       "      <td>Blanks</td>\n",
       "      <td>Female</td>\n",
       "      <td>(D) Black or Black British - Other African</td>\n",
       "      <td>Blanks</td>\n",
       "      <td>Christian</td>\n",
       "      <td>Blanks</td>\n",
       "      <td>Blanks</td>\n",
       "      <td>Forest</td>\n",
       "    </tr>\n",
       "    <tr>\n",
       "      <th>3</th>\n",
       "      <td>No Outcome</td>\n",
       "      <td>55</td>\n",
       "      <td>Blanks</td>\n",
       "      <td>Male</td>\n",
       "      <td>(D) Black or Black British - Any other Black b...</td>\n",
       "      <td>No</td>\n",
       "      <td>Blanks</td>\n",
       "      <td>ISCED Level 7 (Master's or equivalent level)</td>\n",
       "      <td>Yes</td>\n",
       "      <td>NaN</td>\n",
       "    </tr>\n",
       "    <tr>\n",
       "      <th>4</th>\n",
       "      <td>No Outcome</td>\n",
       "      <td>30</td>\n",
       "      <td>Blanks</td>\n",
       "      <td>Female</td>\n",
       "      <td>(A) White - Any other White background</td>\n",
       "      <td>No</td>\n",
       "      <td>Blanks</td>\n",
       "      <td>ISCED Level 2 (Lower secondary education)</td>\n",
       "      <td>Yes</td>\n",
       "      <td>Blackwall &amp; Cubitt Town</td>\n",
       "    </tr>\n",
       "  </tbody>\n",
       "</table>\n",
       "</div>"
      ],
      "text/plain": [
       "     Employer  Client_Current_Age Parent_on_Enrolment  Gender  \\\n",
       "0  No Outcome                  29              Blanks  Female   \n",
       "1  No Outcome                  32              Blanks    Male   \n",
       "2  No Outcome                  48              Blanks  Female   \n",
       "3  No Outcome                  55              Blanks    Male   \n",
       "4  No Outcome                  30              Blanks  Female   \n",
       "\n",
       "                                       Ethnic_Origin Has_Disability  \\\n",
       "0  (C) Asian or Asian British - Any other Asian b...             No   \n",
       "1  (C) Asian or Asian British - Any other Asian b...             No   \n",
       "2         (D) Black or Black British - Other African         Blanks   \n",
       "3  (D) Black or Black British - Any other Black b...             No   \n",
       "4             (A) White - Any other White background             No   \n",
       "\n",
       "    Religion                      Highest_Level_of_Education  \\\n",
       "0     Blanks  ISCED Level 6 (Bachelor's or equivalent level)   \n",
       "1     Blanks  ISCED Level 6 (Bachelor's or equivalent level)   \n",
       "2  Christian                                          Blanks   \n",
       "3     Blanks    ISCED Level 7 (Master's or equivalent level)   \n",
       "4     Blanks       ISCED Level 2 (Lower secondary education)   \n",
       "\n",
       "  Claiming_Benefits                WARD_NAME  \n",
       "0                No              Whitechapel  \n",
       "1                No            Stepney Green  \n",
       "2            Blanks                   Forest  \n",
       "3               Yes                      NaN  \n",
       "4               Yes  Blackwall & Cubitt Town  "
      ]
     },
     "execution_count": 226,
     "metadata": {},
     "output_type": "execute_result"
    }
   ],
   "source": [
    "# Remove the irrelevant columns\n",
    "Islington_data=Islington_data.drop(['Disability_details', 'Registration_Date',\\\n",
    "               'Sexuality','Benefits'], axis = 1)\n",
    "Islington_data.head()"
   ]
  },
  {
   "cell_type": "markdown",
   "id": "6221230d",
   "metadata": {},
   "source": [
    "### Cleaning the data"
   ]
  },
  {
   "cell_type": "code",
   "execution_count": 227,
   "id": "17de85bd",
   "metadata": {},
   "outputs": [],
   "source": [
    "#Removing the rows with null values\n",
    "Islington_data=Islington_data.dropna()"
   ]
  },
  {
   "cell_type": "markdown",
   "id": "43a83112",
   "metadata": {},
   "source": [
    "### Transforming the variables"
   ]
  },
  {
   "cell_type": "code",
   "execution_count": 228,
   "id": "02bbf897",
   "metadata": {},
   "outputs": [
    {
     "data": {
      "text/plain": [
       "No Outcome                      4179\n",
       "London Borough of Islington       58\n",
       "Mihomecare- Islington Branch      41\n",
       "Caterlink                         32\n",
       "Islington Council                 25\n",
       "                                ... \n",
       "dcs ltd                            1\n",
       "Highbury Community Nursery         1\n",
       "K&M                                1\n",
       "Bespoke Solutions                  1\n",
       "Dans Le Noir                       1\n",
       "Name: Employer, Length: 281, dtype: int64"
      ]
     },
     "execution_count": 228,
     "metadata": {},
     "output_type": "execute_result"
    }
   ],
   "source": [
    "#To check the number of unique values in Employer\n",
    "Islington_data['Employer'].value_counts()"
   ]
  },
  {
   "cell_type": "code",
   "execution_count": 229,
   "id": "972d43a3",
   "metadata": {},
   "outputs": [
    {
     "data": {
      "text/plain": [
       "0    4179\n",
       "1     601\n",
       "Name: Employer, dtype: int64"
      ]
     },
     "execution_count": 229,
     "metadata": {},
     "output_type": "execute_result"
    }
   ],
   "source": [
    "#Transform the variable Employer\n",
    "\n",
    "Islington_data['Employer']=Islington_data['Employer'].apply(lambda x: 0 if x == 'No Outcome' else 1)\n",
    "Islington_data['Employer'].value_counts()"
   ]
  },
  {
   "cell_type": "code",
   "execution_count": 230,
   "id": "e35ae4b1",
   "metadata": {},
   "outputs": [
    {
     "data": {
      "text/plain": [
       "Female               2937\n",
       "Male                 1784\n",
       "Prefer not to say      33\n",
       "Not Known              14\n",
       "No response             6\n",
       "Transgender             6\n",
       "Name: Gender, dtype: int64"
      ]
     },
     "execution_count": 230,
     "metadata": {},
     "output_type": "execute_result"
    }
   ],
   "source": [
    "Islington_data['Gender'].value_counts()"
   ]
  },
  {
   "cell_type": "code",
   "execution_count": 231,
   "id": "6fd59d34",
   "metadata": {},
   "outputs": [
    {
     "data": {
      "text/plain": [
       "0    2937\n",
       "1    1784\n",
       "3      33\n",
       "4      20\n",
       "2       6\n",
       "Name: Gender, dtype: int64"
      ]
     },
     "execution_count": 231,
     "metadata": {},
     "output_type": "execute_result"
    }
   ],
   "source": [
    "#Transform the variable Gender\n",
    "\n",
    "Islington_data['Gender']=Islington_data['Gender'].apply(lambda x: 0 if x=='Female' else 1 if x== 'Male' else 2 if x=='Transgender'\\\n",
    "                                                else 3 if x=='Prefer not to say' else 4)\n",
    "Islington_data['Gender'].value_counts()"
   ]
  },
  {
   "cell_type": "code",
   "execution_count": 232,
   "id": "042cbbe7",
   "metadata": {},
   "outputs": [
    {
     "data": {
      "text/plain": [
       "(A) White - British                                        1130\n",
       "(A) White - Any other White background                      594\n",
       "(D) Black or Black British - Caribbean                      450\n",
       "(D) Black or Black British - Other African                  340\n",
       "(C) Asian or Asian British - Bangladeshi                    202\n",
       "(D) Black or Black British - Somali                         197\n",
       "(B) Mixed - White and Black Caribbean                       158\n",
       "(E) Other Ethnic Groups - Prefer not to say                 143\n",
       "(D) Black or Black British - Any other Black background     138\n",
       "(B) Mixed - Any other Mixed background                      138\n",
       "(C) Asian or Asian British - Any other Asian background     129\n",
       "(D) Black or Black British - Nigerian                       126\n",
       "(D) Black or Black British - Eritrean                       120\n",
       "(A) White - Turkish/ Turkish Cypriot                        112\n",
       "(E) Other Ethnic Groups - Any other background              109\n",
       "(A) White - Irish                                            81\n",
       "(C) Asian or Asian British - Indian                          79\n",
       "(D) Black or Black British - Ghanaian                        73\n",
       "(A) White - Greek/ Greek Cypriot                             67\n",
       "(B) Mixed - White and Black African                          67\n",
       "(E) Other Ethnic Group - Latin American                      65\n",
       "(C) Asian or Asian British - Chinese                         41\n",
       "(B) Mixed - White and Asian                                  40\n",
       "(E) Other Ethnic Group - Arab                                37\n",
       "(E) Other Ethnic Groups - Latin American                     34\n",
       "(C) Asian or Asian British - Pakistani                       32\n",
       "(A) White - Kurdish                                          30\n",
       "(E) Other Ethnic Groups - Arab                               24\n",
       "Not Known                                                    14\n",
       "(A) White - Gypsy/ Traveller                                  5\n",
       "Any Other Ethnic Group                                        2\n",
       "Black/African/Caribbean/Black British - African               2\n",
       "Mixed/Multiple Ethnic Groups - Other Mixed                    1\n",
       "Name: Ethnic_Origin, dtype: int64"
      ]
     },
     "execution_count": 232,
     "metadata": {},
     "output_type": "execute_result"
    }
   ],
   "source": [
    "Islington_data['Ethnic_Origin'].value_counts()"
   ]
  },
  {
   "cell_type": "code",
   "execution_count": 233,
   "id": "1d05ae7f",
   "metadata": {},
   "outputs": [],
   "source": [
    "#getting unique values and the ordinal values\n",
    "values = Islington_data['Ethnic_Origin'].value_counts().keys().tolist()\n",
    "indx=range(len(values))\n",
    "valdict=dict(zip(values,indx))"
   ]
  },
  {
   "cell_type": "code",
   "execution_count": 234,
   "id": "098376a7",
   "metadata": {},
   "outputs": [],
   "source": [
    "#Transform the variable Ethnic Origin\n",
    "        \n",
    "Islington_data['Ethnic_Origin']=Islington_data['Ethnic_Origin'].apply(lambda x: valdict[x])"
   ]
  },
  {
   "cell_type": "code",
   "execution_count": 235,
   "id": "486c2c41",
   "metadata": {},
   "outputs": [
    {
     "data": {
      "text/plain": [
       "South Acton          1\n",
       "Enfield Highway      1\n",
       "Southbury            1\n",
       "Norbiton             1\n",
       "River                1\n",
       "                  ... \n",
       "Tollington         284\n",
       "Caledonian         293\n",
       "Highbury West      323\n",
       "Holloway           347\n",
       "Finsbury Park      385\n",
       "Name: WARD_NAME, Length: 205, dtype: int64"
      ]
     },
     "execution_count": 235,
     "metadata": {},
     "output_type": "execute_result"
    }
   ],
   "source": [
    "Islington_data['WARD_NAME'].value_counts(ascending=True)"
   ]
  },
  {
   "cell_type": "code",
   "execution_count": 236,
   "id": "36fb7e76",
   "metadata": {},
   "outputs": [],
   "source": [
    "#getting unique values sorted in ascending order and the ordinal values\n",
    "values2 = Islington_data['WARD_NAME'].value_counts(ascending=True).keys().tolist()\n",
    "indx2=range(len(values2))\n",
    "valdict2=dict(zip(values2,indx2))"
   ]
  },
  {
   "cell_type": "code",
   "execution_count": 237,
   "id": "e4c33e94",
   "metadata": {},
   "outputs": [],
   "source": [
    "#Transform the variable WARD_NAME\n",
    "\n",
    "Islington_data['WARD_NAME']=Islington_data['WARD_NAME'].apply(lambda x: valdict2[x])"
   ]
  },
  {
   "cell_type": "code",
   "execution_count": 238,
   "id": "2e9944b7",
   "metadata": {},
   "outputs": [
    {
     "data": {
      "text/plain": [
       "Blanks                                                        2680\n",
       "ISCED Level 2 (Lower secondary education)                      632\n",
       "ISCED Level 3 (Upper secondary education)                      463\n",
       "ISCED Level 6 (Bachelor's or equivalent level)                 390\n",
       "ISCED Level 4 (Post secondary - tertiary and non-tertiary)     183\n",
       "ISCED Level 1 (Primary education)                              173\n",
       "ISCED Level 7 (Master's or equivalent level)                   105\n",
       "ISCED Level 5 (Short cycle tertiary education)                  96\n",
       "ISCED Level 0 (Early childhood education)                       49\n",
       "ISCED Level 8 (Doctoral or equivalenmt level)                    9\n",
       "Name: Highest_Level_of_Education, dtype: int64"
      ]
     },
     "execution_count": 238,
     "metadata": {},
     "output_type": "execute_result"
    }
   ],
   "source": [
    "Islington_data['Highest_Level_of_Education'].sort_values().value_counts()"
   ]
  },
  {
   "cell_type": "code",
   "execution_count": 239,
   "id": "1cc0151c",
   "metadata": {},
   "outputs": [
    {
     "data": {
      "text/plain": [
       "0    2680\n",
       "7     632\n",
       "6     463\n",
       "3     390\n",
       "5     183\n",
       "8     173\n",
       "2     105\n",
       "4      96\n",
       "9      49\n",
       "1       9\n",
       "Name: Highest_Level_of_Education, dtype: int64"
      ]
     },
     "execution_count": 239,
     "metadata": {},
     "output_type": "execute_result"
    }
   ],
   "source": [
    "#Transform the variable Highest_Level_of_Education\n",
    "\n",
    "Islington_data['Highest_Level_of_Education']=Islington_data['Highest_Level_of_Education'].apply(lambda x: \\\n",
    "                                                      1 if x.startswith('ISCED Level 8')\\\n",
    "                                                      else 2 if x.startswith('ISCED Level 7')\\\n",
    "                                                      else 3 if x.startswith('ISCED Level 6')\\\n",
    "                                                      else 4 if x.startswith('ISCED Level 5')\\\n",
    "                                                      else 5 if x.startswith('ISCED Level 4')\\\n",
    "                                                      else 6 if x.startswith('ISCED Level 3')\\\n",
    "                                                      else 7 if x.startswith('ISCED Level 2')\\\n",
    "                                                      else 8 if x.startswith('ISCED Level 1')\\\n",
    "                                                      else 9 if x.startswith('ISCED Level 0') else 0)\n",
    "                                                                                                \n",
    "Islington_data['Highest_Level_of_Education'].value_counts()                                                                                               "
   ]
  },
  {
   "cell_type": "code",
   "execution_count": 240,
   "id": "3d33522b",
   "metadata": {},
   "outputs": [
    {
     "data": {
      "text/plain": [
       "Blanks    2647\n",
       "Yes       1324\n",
       "No         809\n",
       "Name: Claiming_Benefits, dtype: int64"
      ]
     },
     "execution_count": 240,
     "metadata": {},
     "output_type": "execute_result"
    }
   ],
   "source": [
    "Islington_data['Claiming_Benefits'].value_counts()"
   ]
  },
  {
   "cell_type": "code",
   "execution_count": 241,
   "id": "f25e0401",
   "metadata": {},
   "outputs": [
    {
     "data": {
      "text/plain": [
       "2    2647\n",
       "1    1324\n",
       "0     809\n",
       "Name: Claiming_Benefits, dtype: int64"
      ]
     },
     "execution_count": 241,
     "metadata": {},
     "output_type": "execute_result"
    }
   ],
   "source": [
    "#Transform the variable Claiming_Benefits\n",
    "\n",
    "Islington_data['Claiming_Benefits']=Islington_data['Claiming_Benefits'].apply(lambda x: 0 if x=='No' \\\n",
    "                                                                              else 1 if x=='Yes' else 2)\n",
    "Islington_data['Claiming_Benefits'].value_counts()\n"
   ]
  },
  {
   "cell_type": "code",
   "execution_count": 242,
   "id": "8917c491",
   "metadata": {},
   "outputs": [
    {
     "data": {
      "text/html": [
       "<div>\n",
       "<style scoped>\n",
       "    .dataframe tbody tr th:only-of-type {\n",
       "        vertical-align: middle;\n",
       "    }\n",
       "\n",
       "    .dataframe tbody tr th {\n",
       "        vertical-align: top;\n",
       "    }\n",
       "\n",
       "    .dataframe thead th {\n",
       "        text-align: right;\n",
       "    }\n",
       "</style>\n",
       "<table border=\"1\" class=\"dataframe\">\n",
       "  <thead>\n",
       "    <tr style=\"text-align: right;\">\n",
       "      <th></th>\n",
       "      <th>Employer</th>\n",
       "      <th>Client_Current_Age</th>\n",
       "      <th>Parent_on_Enrolment</th>\n",
       "      <th>Gender</th>\n",
       "      <th>Ethnic_Origin</th>\n",
       "      <th>Has_Disability</th>\n",
       "      <th>Religion</th>\n",
       "      <th>Highest_Level_of_Education</th>\n",
       "      <th>Claiming_Benefits</th>\n",
       "      <th>WARD_NAME</th>\n",
       "    </tr>\n",
       "  </thead>\n",
       "  <tbody>\n",
       "    <tr>\n",
       "      <th>0</th>\n",
       "      <td>0</td>\n",
       "      <td>29</td>\n",
       "      <td>Blanks</td>\n",
       "      <td>0</td>\n",
       "      <td>10</td>\n",
       "      <td>No</td>\n",
       "      <td>Blanks</td>\n",
       "      <td>3</td>\n",
       "      <td>0</td>\n",
       "      <td>100</td>\n",
       "    </tr>\n",
       "    <tr>\n",
       "      <th>1</th>\n",
       "      <td>0</td>\n",
       "      <td>32</td>\n",
       "      <td>Blanks</td>\n",
       "      <td>1</td>\n",
       "      <td>10</td>\n",
       "      <td>No</td>\n",
       "      <td>Blanks</td>\n",
       "      <td>3</td>\n",
       "      <td>0</td>\n",
       "      <td>120</td>\n",
       "    </tr>\n",
       "    <tr>\n",
       "      <th>2</th>\n",
       "      <td>0</td>\n",
       "      <td>48</td>\n",
       "      <td>Blanks</td>\n",
       "      <td>0</td>\n",
       "      <td>3</td>\n",
       "      <td>Blanks</td>\n",
       "      <td>Christian</td>\n",
       "      <td>0</td>\n",
       "      <td>2</td>\n",
       "      <td>117</td>\n",
       "    </tr>\n",
       "    <tr>\n",
       "      <th>4</th>\n",
       "      <td>0</td>\n",
       "      <td>30</td>\n",
       "      <td>Blanks</td>\n",
       "      <td>0</td>\n",
       "      <td>1</td>\n",
       "      <td>No</td>\n",
       "      <td>Blanks</td>\n",
       "      <td>7</td>\n",
       "      <td>1</td>\n",
       "      <td>119</td>\n",
       "    </tr>\n",
       "    <tr>\n",
       "      <th>5</th>\n",
       "      <td>0</td>\n",
       "      <td>57</td>\n",
       "      <td>Blanks</td>\n",
       "      <td>1</td>\n",
       "      <td>0</td>\n",
       "      <td>No</td>\n",
       "      <td>Blanks</td>\n",
       "      <td>3</td>\n",
       "      <td>1</td>\n",
       "      <td>109</td>\n",
       "    </tr>\n",
       "  </tbody>\n",
       "</table>\n",
       "</div>"
      ],
      "text/plain": [
       "   Employer  Client_Current_Age Parent_on_Enrolment  Gender  Ethnic_Origin  \\\n",
       "0         0                  29              Blanks       0             10   \n",
       "1         0                  32              Blanks       1             10   \n",
       "2         0                  48              Blanks       0              3   \n",
       "4         0                  30              Blanks       0              1   \n",
       "5         0                  57              Blanks       1              0   \n",
       "\n",
       "  Has_Disability   Religion  Highest_Level_of_Education  Claiming_Benefits  \\\n",
       "0             No     Blanks                           3                  0   \n",
       "1             No     Blanks                           3                  0   \n",
       "2         Blanks  Christian                           0                  2   \n",
       "4             No     Blanks                           7                  1   \n",
       "5             No     Blanks                           3                  1   \n",
       "\n",
       "   WARD_NAME  \n",
       "0        100  \n",
       "1        120  \n",
       "2        117  \n",
       "4        119  \n",
       "5        109  "
      ]
     },
     "execution_count": 242,
     "metadata": {},
     "output_type": "execute_result"
    }
   ],
   "source": [
    "Islington_data.head()"
   ]
  },
  {
   "cell_type": "code",
   "execution_count": 243,
   "id": "eeee4179",
   "metadata": {},
   "outputs": [],
   "source": [
    "#Removing all the other columns without ordinal values\n",
    "Islington_data_new=Islington_data.drop(['Parent_on_Enrolment', 'Has_Disability',\\\n",
    "               'Religion'], axis = 1)"
   ]
  },
  {
   "cell_type": "code",
   "execution_count": 244,
   "id": "158789a9",
   "metadata": {},
   "outputs": [
    {
     "data": {
      "text/html": [
       "<div>\n",
       "<style scoped>\n",
       "    .dataframe tbody tr th:only-of-type {\n",
       "        vertical-align: middle;\n",
       "    }\n",
       "\n",
       "    .dataframe tbody tr th {\n",
       "        vertical-align: top;\n",
       "    }\n",
       "\n",
       "    .dataframe thead th {\n",
       "        text-align: right;\n",
       "    }\n",
       "</style>\n",
       "<table border=\"1\" class=\"dataframe\">\n",
       "  <thead>\n",
       "    <tr style=\"text-align: right;\">\n",
       "      <th></th>\n",
       "      <th>Employer</th>\n",
       "      <th>Client_Current_Age</th>\n",
       "      <th>Gender</th>\n",
       "      <th>Ethnic_Origin</th>\n",
       "      <th>Highest_Level_of_Education</th>\n",
       "      <th>Claiming_Benefits</th>\n",
       "      <th>WARD_NAME</th>\n",
       "    </tr>\n",
       "  </thead>\n",
       "  <tbody>\n",
       "    <tr>\n",
       "      <th>0</th>\n",
       "      <td>0</td>\n",
       "      <td>29</td>\n",
       "      <td>0</td>\n",
       "      <td>10</td>\n",
       "      <td>3</td>\n",
       "      <td>0</td>\n",
       "      <td>100</td>\n",
       "    </tr>\n",
       "    <tr>\n",
       "      <th>1</th>\n",
       "      <td>0</td>\n",
       "      <td>32</td>\n",
       "      <td>1</td>\n",
       "      <td>10</td>\n",
       "      <td>3</td>\n",
       "      <td>0</td>\n",
       "      <td>120</td>\n",
       "    </tr>\n",
       "    <tr>\n",
       "      <th>2</th>\n",
       "      <td>0</td>\n",
       "      <td>48</td>\n",
       "      <td>0</td>\n",
       "      <td>3</td>\n",
       "      <td>0</td>\n",
       "      <td>2</td>\n",
       "      <td>117</td>\n",
       "    </tr>\n",
       "    <tr>\n",
       "      <th>4</th>\n",
       "      <td>0</td>\n",
       "      <td>30</td>\n",
       "      <td>0</td>\n",
       "      <td>1</td>\n",
       "      <td>7</td>\n",
       "      <td>1</td>\n",
       "      <td>119</td>\n",
       "    </tr>\n",
       "    <tr>\n",
       "      <th>5</th>\n",
       "      <td>0</td>\n",
       "      <td>57</td>\n",
       "      <td>1</td>\n",
       "      <td>0</td>\n",
       "      <td>3</td>\n",
       "      <td>1</td>\n",
       "      <td>109</td>\n",
       "    </tr>\n",
       "  </tbody>\n",
       "</table>\n",
       "</div>"
      ],
      "text/plain": [
       "   Employer  Client_Current_Age  Gender  Ethnic_Origin  \\\n",
       "0         0                  29       0             10   \n",
       "1         0                  32       1             10   \n",
       "2         0                  48       0              3   \n",
       "4         0                  30       0              1   \n",
       "5         0                  57       1              0   \n",
       "\n",
       "   Highest_Level_of_Education  Claiming_Benefits  WARD_NAME  \n",
       "0                           3                  0        100  \n",
       "1                           3                  0        120  \n",
       "2                           0                  2        117  \n",
       "4                           7                  1        119  \n",
       "5                           3                  1        109  "
      ]
     },
     "execution_count": 244,
     "metadata": {},
     "output_type": "execute_result"
    }
   ],
   "source": [
    "Islington_data_new.head()"
   ]
  },
  {
   "cell_type": "code",
   "execution_count": 245,
   "id": "22558d87",
   "metadata": {},
   "outputs": [
    {
     "data": {
      "text/plain": [
       "count       4780.000000\n",
       "mean          37.321130\n",
       "std           14.083748\n",
       "min            0.000000\n",
       "25%           26.000000\n",
       "50%           36.000000\n",
       "75%           47.000000\n",
       "max          137.000000\n",
       "skewness       0.905882\n",
       "kurtosis       3.205191\n",
       "Name: Client_Current_Age, dtype: float64"
      ]
     },
     "execution_count": 245,
     "metadata": {},
     "output_type": "execute_result"
    }
   ],
   "source": [
    "summary=Islington_data_new['Client_Current_Age'].describe()\n",
    "summary.loc['skewness'] = Islington_data_new['Client_Current_Age'].skew().tolist()\n",
    "summary.loc['kurtosis'] = Islington_data_new['Client_Current_Age'].kurtosis().tolist()\n",
    "summary"
   ]
  },
  {
   "cell_type": "code",
   "execution_count": 246,
   "id": "f4703825",
   "metadata": {},
   "outputs": [],
   "source": [
    "#Find correlation matrix\n",
    "corr_matrix = Islington_data_new.corr()"
   ]
  },
  {
   "cell_type": "code",
   "execution_count": 247,
   "id": "edf8fbc9",
   "metadata": {},
   "outputs": [
    {
     "data": {
      "image/png": "[encoded data removed]",
      "text/plain": [
       "<Figure size 1008x720 with 2 Axes>"
      ]
     },
     "metadata": {
      "needs_background": "light"
     },
     "output_type": "display_data"
    }
   ],
   "source": [
    "import seaborn as sns\n",
    "\n",
    "fig, ax = plt.subplots(figsize=(14,10)) \n",
    "sns.heatmap(corr_matrix,annot=True,linewidths=.5,ax=ax);"
   ]
  },
  {
   "cell_type": "code",
   "execution_count": 249,
   "id": "ed0e3557",
   "metadata": {
    "scrolled": true
   },
   "outputs": [
    {
     "data": {
      "text/plain": [
       "Highest_Level_of_Education  Employer    0.293205\n",
       "Gender                      Employer    0.021403\n",
       "WARD_NAME                   Employer    0.007149\n",
       "Ethnic_Origin               Employer   -0.006238\n",
       "Client_Current_Age          Employer   -0.069318\n",
       "Claiming_Benefits           Employer   -0.261334\n",
       "dtype: float64"
      ]
     },
     "execution_count": 249,
     "metadata": {},
     "output_type": "execute_result"
    }
   ],
   "source": [
    "#correlation of target variable with other variables\n",
    "corr_matrix[:1].unstack().sort_values(ascending = False)[1:]"
   ]
  },
  {
   "cell_type": "code",
   "execution_count": 250,
   "id": "480efbd0",
   "metadata": {},
   "outputs": [
    {
     "name": "stdout",
     "output_type": "stream",
     "text": [
      "Enter the variable to show the histogram:Ethnic_Origin\n"
     ]
    },
    {
     "data": {
      "image/png": "[encoded data removed]",
      "text/plain": [
       "<Figure size 432x288 with 1 Axes>"
      ]
     },
     "metadata": {
      "needs_background": "light"
     },
     "output_type": "display_data"
    },
    {
     "name": "stdout",
     "output_type": "stream",
     "text": [
      "Enter the variable to show the histogram:\n",
      "You entered blank\n"
     ]
    }
   ],
   "source": [
    "while True:\n",
    "    #convert user-input it into a string and store in variable\n",
    "    variable = str(input(\"Enter the variable to show the histogram:\"))\n",
    "    #remove any spaces at the extreme ends of the input\n",
    "    variable=variable.strip()\n",
    "    #Stop if no input is given\n",
    "    if variable == '':\n",
    "        print(\"You entered blank\")\n",
    "        break\n",
    "    else:\n",
    "        #plot the histogram for the input\n",
    "        df=Islington_data_new[variable]\n",
    "        ax = df.hist(figsize=(6,4))\n",
    "        plt.title(f\"Histogram for {variable}\")\n",
    "        plt.xlabel(f\"{variable}\")\n",
    "        plt.ylabel(\"frequency\")\n",
    "        plt.show()\n",
    "        continue"
   ]
  },
  {
   "cell_type": "code",
   "execution_count": 251,
   "id": "65d72504",
   "metadata": {},
   "outputs": [
    {
     "name": "stdout",
     "output_type": "stream",
     "text": [
      "Enter the first variable to show the scatter plot \n",
      "WARD_NAME\n",
      "Enter the second variable to show the scatter plot \n",
      "Highest_Level_of_Education\n"
     ]
    },
    {
     "data": {
      "image/png": "[encoded data removed]",
      "text/plain": [
       "<Figure size 432x288 with 1 Axes>"
      ]
     },
     "metadata": {
      "needs_background": "light"
     },
     "output_type": "display_data"
    },
    {
     "name": "stdout",
     "output_type": "stream",
     "text": [
      "Enter the first variable to show the scatter plot \n",
      "\n",
      "The first variable was empty\n"
     ]
    }
   ],
   "source": [
    "while True:\n",
    "    #convert user-input it into a string and store in variable\n",
    "    x= str(input(\"Enter the first variable to show the scatter plot \\n\"))\n",
    "    #remove any spaces at the extreme ends of the input\n",
    "    x=x.strip()\n",
    "    #Stop if no input is given\n",
    "    if x=='':\n",
    "        print(\"The first variable was empty\")\n",
    "        break\n",
    "    #convert user-input it into a string and store in variable\n",
    "    y=str(input(\"Enter the second variable to show the scatter plot \\n\"))\n",
    "    #remove any spaces at the extreme ends of the input\n",
    "    y=y.strip()\n",
    "    #Stop if no input is given\n",
    "    if y == '':\n",
    "        print(\"Cannot plot a scatter diagram as the second variable was not given\")\n",
    "        break\n",
    "    else:\n",
    "        #plot the scatter plot for the input variables\n",
    "        ax = Islington_data_new.plot.scatter(x=x,y=y, c='DarkBlue')\n",
    "        plt.title(f\"Scatter Plot for {x} and {y}\")\n",
    "        plt.xlabel(f\"{x}\")\n",
    "        plt.ylabel(f\"{y}\")\n",
    "        plt.show()\n",
    "        continue"
   ]
  },
  {
   "cell_type": "code",
   "execution_count": 252,
   "id": "e59db2f8",
   "metadata": {},
   "outputs": [],
   "source": [
    "from sklearn.preprocessing import StandardScaler\n",
    "\n",
    "#Defining X as the explanatory variables and Y as target variable\n",
    "X=Islington_data_new.drop(columns=['Employer'])\n",
    "Y=Islington_data_new['Employer']\n",
    "\n",
    "scaler = StandardScaler()\n",
    "\n",
    "#Standardise X such that mean=0 and variance=1\n",
    "X = scaler.fit_transform(X)\n",
    "\n",
    "#Splitting into training and testing data\n",
    "X_train, X_test, y_train, y_test = train_test_split(X, Y, test_size=0.3, random_state=50)"
   ]
  },
  {
   "cell_type": "code",
   "execution_count": 253,
   "id": "dd8c7d5f",
   "metadata": {},
   "outputs": [],
   "source": [
    "#import KNeighborsClassifier and accuracy_score\n",
    "from sklearn.neighbors import KNeighborsClassifier\n",
    "from sklearn.metrics import accuracy_score\n",
    "\n",
    "#To initiate the classifier\n",
    "model_KN = KNeighborsClassifier()\n",
    "\n",
    "# fit classifier to training set\n",
    "model_KN.fit(X_train,y_train)\n",
    "\n",
    "#predict the values of testing data\n",
    "predictions = model_KN.predict(X_test)"
   ]
  },
  {
   "cell_type": "code",
   "execution_count": 254,
   "id": "de1109c8",
   "metadata": {},
   "outputs": [
    {
     "name": "stdout",
     "output_type": "stream",
     "text": [
      "True Positives: 40\n",
      "False Positives: 55\n",
      "True Negatives: 1203\n",
      "False Negatives: 136\n"
     ]
    }
   ],
   "source": [
    "from sklearn.metrics import confusion_matrix\n",
    "\n",
    "#To find and assign the True Positives, True Negatives, False Positives and False Negatives\n",
    "TN, FP, FN, TP = confusion_matrix(y_test, predictions).ravel()\n",
    "\n",
    "#To print the values\n",
    "print('True Positives:', TP)\n",
    "print('False Positives:', FP)\n",
    "print('True Negatives:', TN)\n",
    "print('False Negatives:', FN)"
   ]
  },
  {
   "cell_type": "code",
   "execution_count": 255,
   "id": "65db7532",
   "metadata": {},
   "outputs": [
    {
     "name": "stdout",
     "output_type": "stream",
     "text": [
      "Training set score: 89.0915\n",
      "Test set score: 86.6806\n"
     ]
    }
   ],
   "source": [
    "#To compute and print the accuracy rate for training data\n",
    "print('Training set score: {:.4f}'.format(model_KN.score(X_train, y_train)*100))\n",
    "\n",
    "#To compute and print the accuracy rate for testing data\n",
    "print('Test set score: {:.4f}'.format(model_KN.score(X_test, y_test)*100))"
   ]
  },
  {
   "cell_type": "code",
   "execution_count": null,
   "id": "4e9a1ae7",
   "metadata": {},
   "outputs": [],
   "source": [
    "#Since the accuracy scores are comparable, we can say that there is no overfitting"
   ]
  },
  {
   "cell_type": "code",
   "execution_count": 256,
   "id": "d875f4e3",
   "metadata": {},
   "outputs": [],
   "source": [
    "#import RandomForestClassifier\n",
    "from sklearn.ensemble import RandomForestClassifier\n",
    "\n",
    "#To initiate the classifier\n",
    "model_RF = RandomForestClassifier()\n",
    "\n",
    "# fit classifier to training set\n",
    "model_RF.fit(X_train, y_train)\n",
    "\n",
    "#predict the values of testing data\n",
    "predictions = model_RF.predict(X_test)"
   ]
  },
  {
   "cell_type": "code",
   "execution_count": 257,
   "id": "b07297be",
   "metadata": {},
   "outputs": [
    {
     "name": "stdout",
     "output_type": "stream",
     "text": [
      "True Positives: 48\n",
      "False Positives: 26\n",
      "True Negatives: 1232\n",
      "False Negatives: 128\n"
     ]
    }
   ],
   "source": [
    "#To find and assign the True Positives, True Negatives, False Positives and False Negatives\n",
    "TN, FP, FN, TP = confusion_matrix(y_test, predictions).ravel()\n",
    "\n",
    "#printing the values of TP, TN, FP & FN\n",
    "print('True Positives:', TP)\n",
    "print('False Positives:', FP)\n",
    "print('True Negatives:', TN)\n",
    "print('False Negatives:', FN)"
   ]
  },
  {
   "cell_type": "code",
   "execution_count": 258,
   "id": "fb84ac36",
   "metadata": {},
   "outputs": [
    {
     "name": "stdout",
     "output_type": "stream",
     "text": [
      "Training set score: 99.7609\n",
      "Test set score: 89.2608\n"
     ]
    }
   ],
   "source": [
    "#To compute and print the accuracy rate for training data\n",
    "print('Training set score: {:.4f}'.format(model_RF.score(X_train, y_train)*100))\n",
    "\n",
    "#To compute and print the accuracy rate for testing data\n",
    "print('Test set score: {:.4f}'.format(model_RF.score(X_test, y_test)*100))"
   ]
  },
  {
   "cell_type": "code",
   "execution_count": null,
   "id": "3ce1e8be",
   "metadata": {},
   "outputs": [],
   "source": []
  }
 ],
 "metadata": {
  "kernelspec": {
   "display_name": "Python 3 (ipykernel)",
   "language": "python",
   "name": "python3"
  },
  "language_info": {
   "codemirror_mode": {
    "name": "ipython",
    "version": 3
   },
   "file_extension": ".py",
   "mimetype": "text/x-python",
   "name": "python",
   "nbconvert_exporter": "python",
   "pygments_lexer": "ipython3",
   "version": "3.8.12"
  }
 },
 "nbformat": 4,
 "nbformat_minor": 5
}
